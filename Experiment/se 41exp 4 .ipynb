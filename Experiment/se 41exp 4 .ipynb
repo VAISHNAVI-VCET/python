{
 "cells": [
  {
   "cell_type": "code",
   "execution_count": 1,
   "id": "841cd638",
   "metadata": {},
   "outputs": [
    {
     "name": "stdout",
     "output_type": "stream",
     "text": [
      "Files in the current directory:\n",
      ".bash_history\n",
      ".condarc\n",
      ".gitconfig\n",
      ".gitignore\n",
      ".node_repl_history\n",
      "exp-3.ipynb\n",
      "Exp_01.ipynb\n",
      "h46.txt\n",
      "newJavaFile.java\n",
      "NTUSER.DAT\n",
      "ntuser.dat.LOG1\n",
      "ntuser.dat.LOG2\n",
      "NTUSER.DAT{50d8f4a9-5cbc-11ee-95be-b7bdf452f7a9}.TM.blf\n",
      "NTUSER.DAT{50d8f4a9-5cbc-11ee-95be-b7bdf452f7a9}.TMContainer00000000000000000001.regtrans-ms\n",
      "NTUSER.DAT{50d8f4a9-5cbc-11ee-95be-b7bdf452f7a9}.TMContainer00000000000000000002.regtrans-ms\n",
      "ntuser.ini\n",
      "package-lock.json\n",
      "package.json\n",
      "untitled\n",
      "Untitled.ipynb\n",
      "untitled.txt\n",
      "untitled1\n",
      "Untitled1.ipynb\n",
      "untitled1.txt\n",
      "untitled2\n",
      "Untitled2.ipynb\n",
      "untitled2.txt\n",
      "untitled3\n",
      "Untitled3.ipynb\n",
      "untitled3.txt\n",
      "Untitled4.ipynb\n",
      "untitled4.txt\n",
      "untitled5.txt\n",
      "untitled6.txt\n"
     ]
    }
   ],
   "source": [
    "from pathlib import Path\n",
    "\n",
    "# Get the current directory\n",
    "current_directory = Path('.')\n",
    "\n",
    "# List all files in the current directory\n",
    "files = [f for f in current_directory.iterdir() if f.is_file()]\n",
    "\n",
    "print(\"Files in the current directory:\")\n",
    "for file in files:\n",
    "    print(file.name)\n"
   ]
  },
  {
   "cell_type": "code",
   "execution_count": 2,
   "id": "86f98654",
   "metadata": {},
   "outputs": [
    {
     "name": "stdout",
     "output_type": "stream",
     "text": [
      "Files in the current directory:\n",
      ".bash_history\n",
      ".condarc\n",
      ".gitconfig\n",
      ".gitignore\n",
      ".node_repl_history\n",
      "exp-3.ipynb\n",
      "Exp_01.ipynb\n",
      "h46.txt\n",
      "newJavaFile.java\n",
      "NTUSER.DAT\n",
      "ntuser.dat.LOG1\n",
      "ntuser.dat.LOG2\n",
      "NTUSER.DAT{50d8f4a9-5cbc-11ee-95be-b7bdf452f7a9}.TM.blf\n",
      "NTUSER.DAT{50d8f4a9-5cbc-11ee-95be-b7bdf452f7a9}.TMContainer00000000000000000001.regtrans-ms\n",
      "NTUSER.DAT{50d8f4a9-5cbc-11ee-95be-b7bdf452f7a9}.TMContainer00000000000000000002.regtrans-ms\n",
      "ntuser.ini\n",
      "package-lock.json\n",
      "package.json\n",
      "untitled\n",
      "Untitled.ipynb\n",
      "untitled.txt\n",
      "untitled1\n",
      "Untitled1.ipynb\n",
      "untitled1.txt\n",
      "untitled2\n",
      "Untitled2.ipynb\n",
      "untitled2.txt\n",
      "untitled3\n",
      "Untitled3.ipynb\n",
      "untitled3.txt\n",
      "Untitled4.ipynb\n",
      "untitled4.txt\n",
      "untitled5.txt\n",
      "untitled6.txt\n"
     ]
    }
   ],
   "source": [
    "from pathlib import Path\n",
    "\n",
    "# Get the current directory\n",
    "current_directory = Path('.')\n",
    "\n",
    "# List all files in the current directory\n",
    "files = [f for f in current_directory.iterdir() if f.is_file()]\n",
    "\n",
    "# Output the list of files\n",
    "print(\"Files in the current directory:\")\n",
    "for file in files:\n",
    "    print(file.name)\n"
   ]
  },
  {
   "cell_type": "code",
   "execution_count": null,
   "id": "c1c8a778",
   "metadata": {},
   "outputs": [],
   "source": []
  }
 ],
 "metadata": {
  "kernelspec": {
   "display_name": "Python 3 (ipykernel)",
   "language": "python",
   "name": "python3"
  },
  "language_info": {
   "codemirror_mode": {
    "name": "ipython",
    "version": 3
   },
   "file_extension": ".py",
   "mimetype": "text/x-python",
   "name": "python",
   "nbconvert_exporter": "python",
   "pygments_lexer": "ipython3",
   "version": "3.11.4"
  }
 },
 "nbformat": 4,
 "nbformat_minor": 5
}
