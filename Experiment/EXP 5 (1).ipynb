{
  "metadata": {
    "kernelspec": {
      "name": "python",
      "display_name": "Python (Pyodide)",
      "language": "python"
    },
    "language_info": {
      "codemirror_mode": {
        "name": "python",
        "version": 3
      },
      "file_extension": ".py",
      "mimetype": "text/x-python",
      "name": "python",
      "nbconvert_exporter": "python",
      "pygments_lexer": "ipython3",
      "version": "3.8"
    }
  },
  "nbformat_minor": 5,
  "nbformat": 4,
  "cells": [
    {
      "id": "b271c60d-5120-4bc6-89e6-7c9524fa5437",
      "cell_type": "markdown",
      "source": "###VAISHNAVI PATHARE(S2-41)",
      "metadata": {}
    },
    {
      "id": "8c0c4056-ca87-4d8b-bfad-0849626b6f33",
      "cell_type": "code",
      "source": "class StackDepth:\n    def maximumDepth(self, stringInput: str) -> int:\n        max_depth = 0  \n        current_depth = 0 \n        \n       \n        for char in stringInput:\n            if char == '(':  \n                current_depth += 1  \n                max_depth = max(max_depth, current_depth)  \n            elif char == ')':\n                current_depth -= 1  \n        \n        return max_depth ",
      "metadata": {
        "trusted": true
      },
      "outputs": [],
      "execution_count": 2
    },
    {
      "id": "a7e8eaa8-1a8b-4701-925c-23a791aef3d5",
      "cell_type": "code",
      "source": "s = \"(1+(2*3)+((8)/4))+1\"\nstack_depth = StackDepth()\nprint(stack_depth.maximumDepth(s))  # Output: 3",
      "metadata": {
        "trusted": true
      },
      "outputs": [
        {
          "name": "stdout",
          "output_type": "stream",
          "text": "3\n"
        }
      ],
      "execution_count": 3
    },
    {
      "id": "b6097cb0-f138-4de8-8bd0-4b036a58697b",
      "cell_type": "code",
      "source": "s = \"(1)+((2))+(((3)))\"\nstack_depth = StackDepth()\nprint(stack_depth.maximumDepth(s))  # Output: 3",
      "metadata": {
        "trusted": true
      },
      "outputs": [
        {
          "name": "stdout",
          "output_type": "stream",
          "text": "3\n"
        }
      ],
      "execution_count": 4
    },
    {
      "id": "2f788266-070f-4609-ab2e-7dab9397b9fb",
      "cell_type": "code",
      "source": "s = \"()(())((()()))\"\nstack_depth = StackDepth()\nprint(stack_depth.maximumDepth(s))  # Output: 3",
      "metadata": {
        "trusted": true
      },
      "outputs": [
        {
          "name": "stdout",
          "output_type": "stream",
          "text": "3\n"
        }
      ],
      "execution_count": 5
    },
    {
      "id": "a4afb4f9-d3b3-4ac2-9181-eb221e769ab2",
      "cell_type": "code",
      "source": "",
      "metadata": {
        "trusted": true
      },
      "outputs": [],
      "execution_count": null
    }
  ]
}